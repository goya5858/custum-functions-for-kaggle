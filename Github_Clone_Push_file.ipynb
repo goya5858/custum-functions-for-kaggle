{
  "nbformat": 4,
  "nbformat_minor": 0,
  "metadata": {
    "colab": {
      "name": "Github-Clone-Push-file.ipynb",
      "provenance": [],
      "collapsed_sections": [
        "H0L1L2l2rpgO"
      ],
      "mount_file_id": "10BS2Z2O4imqJVG8Ufqyx3B22R8rNPbs_",
      "authorship_tag": "ABX9TyO4V81uVFNbTPRbWhJcvRED",
      "include_colab_link": true
    },
    "kernelspec": {
      "name": "python3",
      "display_name": "Python 3"
    },
    "language_info": {
      "name": "python"
    }
  },
  "cells": [
    {
      "cell_type": "markdown",
      "metadata": {
        "id": "view-in-github",
        "colab_type": "text"
      },
      "source": [
        "<a href=\"https://colab.research.google.com/github/goya5858/custum-functions-for-kaggle/blob/main/Github_Clone_Push_file.ipynb\" target=\"_parent\"><img src=\"https://colab.research.google.com/assets/colab-badge.svg\" alt=\"Open In Colab\"/></a>"
      ]
    },
    {
      "cell_type": "markdown",
      "metadata": {
        "id": "yQ-p-Y03gGGk"
      },
      "source": [
        "#<p><font size=\"5\">基本的に、 １セル目の</p>\n",
        "\n",
        "<p><font size=\"7\" color=\"orange\"> >> REPO_NAME</p>\n",
        "<p><font size=\"5\">さえ書き換えれば後はセルの実行だけで上手くいきます</p>\n",
        "\n",
        "<p><font size=\"3\">Githubのusername, email, passはJSONファイルに書いて適切なフォルダに配置してください</p>\n",
        "<p><font size=\"3\">想定ディレクトリは</p>    \n",
        "<p><font size=\"3\">/content/drive/MyDrive/kaggle/works/  <br>\n",
        "|-- .ssh<br>\n",
        "|　　+-- pemファイル類　このファイルではgithub_sshというファイル名で書いてあります<br>\n",
        "+-- env.json<br>\n",
        "+-- Github-Clone-Push-file.ipynb(このファイル)\n",
        "</p>\n",
        "<p><font size=\"3\">となっています</p>\n",
        "\n",
        "<p><font size=\"3\">JSONファイルの想定フォーマットは一番下にサンプルを記載してあります </p>\n",
        "\n",
        "<p><font size=\"5\" color=\"orange\">1. 環境変数の設定</p>\n"
      ]
    },
    {
      "cell_type": "code",
      "metadata": {
        "id": "cayC3T2K7-zq",
        "colab": {
          "base_uri": "https://localhost:8080/"
        },
        "outputId": "a16c8cbb-efe0-40e9-c7c3-1d4118420730"
      },
      "source": [
        "%env REPO_NAME= ventilator-pressure-prediction\n",
        "# <=====　ここの値を現在のリポジトリ名(=kaggleコンペ名)に変更！！！\n",
        "\n",
        "import os\n",
        "import json\n",
        "\n",
        "REPO_NAME = os.environ['REPO_NAME'] #%cdコマンド内では $ で環境変数ではなく、Pythonで定義された変数にアクセスするため代入しておく\n",
        "!echo $REPO_NAME\n",
        "\n",
        "\n",
        "%cd /content/drive/MyDrive/kaggle/works\n",
        "\n",
        "# 環境変数の設定\n",
        "# Jupyterでは環境変数設定で　$ !export は使えないので注意\n",
        "json_open = open('./env.json', 'r')\n",
        "json_load = json.load(json_open)\n",
        "\n",
        "os.environ['USERNAME'] = json_load['user']['username']\n",
        "os.environ['USEREMAIL'] = json_load['user']['useremail']\n",
        "\n",
        "os.environ['PASS'] = json_load['secrets']['pass']"
      ],
      "execution_count": 1,
      "outputs": [
        {
          "output_type": "stream",
          "name": "stdout",
          "text": [
            "env: REPO_NAME=ventilator-pressure-prediction\n",
            "ventilator-pressure-prediction\n",
            "/content/drive/MyDrive/kaggle/works\n"
          ]
        }
      ]
    },
    {
      "cell_type": "markdown",
      "metadata": {
        "id": "ZunW8-_WpOh3"
      },
      "source": [
        "\n",
        "# <p><font size=\"5\">2. Cloneリポジトリ<p>\n",
        "<p><font size=\"5\">3. Kaggleからデータセットのダウンロード</p>\n",
        "\n",
        "<p><font size=\"3\" color=\"red\">初回のみ必要な操作です</p>"
      ]
    },
    {
      "cell_type": "code",
      "metadata": {
        "colab": {
          "base_uri": "https://localhost:8080/"
        },
        "id": "ppFsWd4jk7Wc",
        "outputId": "be470338-925a-4094-a052-270c78df1adf"
      },
      "source": [
        "# GitHubにSSH接続するために必要な作業作業\n",
        "# ./.ssh/github_ssh を配置しておく配置しておく\n",
        "# Github側に./.ssh/github_ssh.pub の中身を登録しておく\n",
        "# KnownHostにgithub.comを登録する\n",
        "\n",
        "%cd /content/drive/MyDrive/kaggle/works/\n",
        "\n",
        "!cp -r ./.ssh /root/\n",
        "!sudo chmod 600 /root/.ssh/github_ssh\n",
        "!sudo chmod 600 /root/.ssh/github_ssh.pub\n",
        "\n",
        "!ssh-keyscan -t rsa github.com >> /root/.ssh/known_hosts"
      ],
      "execution_count": null,
      "outputs": [
        {
          "output_type": "stream",
          "name": "stdout",
          "text": [
            "# github.com:22 SSH-2.0-babeld-82e76f9b\n"
          ]
        }
      ]
    },
    {
      "cell_type": "code",
      "metadata": {
        "colab": {
          "base_uri": "https://localhost:8080/"
        },
        "id": "LDvgnGYBpJpS",
        "outputId": "c21e14ac-f08d-48d8-bf28-786857c686f9"
      },
      "source": [
        "%cd /content/drive/MyDrive/kaggle/works\n",
        "\n",
        "!git config --global user.name $USERNAME\n",
        "!git config --global user.email $USEREMAIL\n",
        "\n",
        "!git clone git@github.com:goya5858/$REPO_NAME"
      ],
      "execution_count": null,
      "outputs": [
        {
          "output_type": "stream",
          "name": "stdout",
          "text": [
            "/content/drive/MyDrive/kaggle/works\n",
            "Cloning into 'ventilator-pressure-prediction'...\n",
            "Warning: Permanently added the RSA host key for IP address '140.82.113.4' to the list of known hosts.\n",
            "remote: Enumerating objects: 18, done.\u001b[K\n",
            "remote: Counting objects: 100% (18/18), done.\u001b[K\n",
            "remote: Compressing objects: 100% (16/16), done.\u001b[K\n",
            "remote: Total 18 (delta 2), reused 9 (delta 0), pack-reused 0\u001b[K\n",
            "Receiving objects: 100% (18/18), 6.70 KiB | 685.00 KiB/s, done.\n",
            "Resolving deltas: 100% (2/2), done.\n"
          ]
        }
      ]
    },
    {
      "cell_type": "markdown",
      "metadata": {
        "id": "YRlPEVwG-ysw"
      },
      "source": [
        "<p><font size=4 color=orangered>ファイル数が多いとGoogle Driveへの反映に大分時差が出ることがあるので注意!!</p>"
      ]
    },
    {
      "cell_type": "code",
      "metadata": {
        "colab": {
          "base_uri": "https://localhost:8080/"
        },
        "id": "BQ2MGJInC9mb",
        "outputId": "bf022b0d-430a-470f-8889-ea7a2c0c9292"
      },
      "source": [
        "# データのダウンロード\n",
        "\n",
        "from googleapiclient.discovery import build\n",
        "import io, os\n",
        "from googleapiclient.http import MediaIoBaseDownload\n",
        "from google.colab import auth\n",
        "\n",
        "\n",
        "auth.authenticate_user()\n",
        "\n",
        "drive_service = build('drive', 'v3')\n",
        "results = drive_service.files().list(\n",
        "        q=\"name = 'kaggle.json'\", fields=\"files(id)\").execute()\n",
        "kaggle_api_key = results.get('files', [])\n",
        "\n",
        "filename = \"/root/.kaggle/kaggle.json\"\n",
        "os.makedirs(os.path.dirname(filename), exist_ok=True)\n",
        "\n",
        "request = drive_service.files().get_media(fileId=kaggle_api_key[0]['id'])\n",
        "fh = io.FileIO(filename, 'wb')\n",
        "downloader = MediaIoBaseDownload(fh, request)\n",
        "done = False\n",
        "while done is False:\n",
        "    status, done = downloader.next_chunk()\n",
        "    print(\"Download %d%%.\" % int(status.progress() * 100))\n",
        "os.chmod(filename, 600)"
      ],
      "execution_count": null,
      "outputs": [
        {
          "output_type": "stream",
          "name": "stdout",
          "text": [
            "Download 100%.\n"
          ]
        }
      ]
    },
    {
      "cell_type": "code",
      "metadata": {
        "id": "b6-2hsF3DknB",
        "colab": {
          "base_uri": "https://localhost:8080/"
        },
        "outputId": "8cadb96e-32b2-4e33-f3c2-db8247473cad"
      },
      "source": [
        "!pip install --upgrade --force-reinstall --no-deps kaggle\n",
        "#↑これやらないとデータひとつづつをダウンロードする地獄を見るよ!!\n",
        "\n",
        "!kaggle competitions download -c $REPO_NAME \\\n",
        "--path /content/drive/MyDrive/kaggle/works/$REPO_NAME/input/$REPO_NAME\n",
        "\n",
        "%cd /content/drive/MyDrive/kaggle/works/$REPO_NAME/input/$REPO_NAME\n",
        "# 解凍先のdirに移動する　unzipの -d オプションで解凍先のディレクトリを指定した場合、ファイル数が多すぎるとバグるので、先に移動しておく\n",
        "!unzip -o \"/content/drive/MyDrive/kaggle/works/$REPO_NAME/input/$REPO_NAME/$REPO_NAME.zip\" \n",
        "%cd /content/drive/MyDrive/kaggle/works/\n",
        "!rm -f \"/content/drive/MyDrive/kaggle/works/$REPO_NAME/input/$REPO_NAME/$REPO_NAME.zip\""
      ],
      "execution_count": null,
      "outputs": [
        {
          "output_type": "stream",
          "name": "stdout",
          "text": [
            "Collecting kaggle\n",
            "  Using cached kaggle-1.5.12-py3-none-any.whl\n",
            "Installing collected packages: kaggle\n",
            "  Attempting uninstall: kaggle\n",
            "    Found existing installation: kaggle 1.5.12\n",
            "    Uninstalling kaggle-1.5.12:\n",
            "      Successfully uninstalled kaggle-1.5.12\n",
            "Successfully installed kaggle-1.5.12\n",
            "Downloading ventilator-pressure-prediction.zip to /content/drive/MyDrive/kaggle/works/ventilator-pressure-prediction/input/ventilator-pressure-prediction\n",
            " 94% 209M/223M [00:01<00:00, 122MB/s]\n",
            "100% 223M/223M [00:02<00:00, 112MB/s]\n",
            "/content/drive/MyDrive/kaggle/works/ventilator-pressure-prediction/input/ventilator-pressure-prediction\n",
            "Archive:  /content/drive/MyDrive/kaggle/works/ventilator-pressure-prediction/input/ventilator-pressure-prediction/ventilator-pressure-prediction.zip\n",
            "  inflating: sample_submission.csv   \n",
            "  inflating: test.csv                \n",
            "  inflating: train.csv               \n",
            "/content/drive/MyDrive/kaggle/works\n"
          ]
        }
      ]
    },
    {
      "cell_type": "markdown",
      "metadata": {
        "id": "5nnC41920vls"
      },
      "source": [
        "# <p><font size=\"5\" color=\"orange\">4. Pull</p>\n",
        "<p><font color=orangered>現在のDrive内のリポジトリの状態を無視して強制Pullします</p>"
      ]
    },
    {
      "cell_type": "code",
      "metadata": {
        "id": "OOXqpwUodlbN",
        "colab": {
          "base_uri": "https://localhost:8080/"
        },
        "outputId": "c277ca85-d4b3-4ee1-d50d-759e2baaf16d"
      },
      "source": [
        "# SSH接続のためのファイルをルートディレクトリにコピー\n",
        "%cd /content/drive/MyDrive/kaggle/works/\n",
        "!cp -r ./.ssh /root/\n",
        "\n",
        "%cd /content/drive/MyDrive/kaggle/works/$REPO_NAME\n",
        "\n",
        "!git config --global user.name $USERNAME\n",
        "!git config --global user.email $USEREMAIL\n",
        "\n",
        "# ローカルの内容に未保存の変更があったとしても、強制的にリモートに同期する\n",
        "!git fetch origin\n",
        "!git reset --hard origin/main"
      ],
      "execution_count": 18,
      "outputs": [
        {
          "output_type": "stream",
          "name": "stdout",
          "text": [
            "/content/drive/MyDrive/kaggle/works\n",
            "/content/drive/MyDrive/kaggle/works/ventilator-pressure-prediction\n",
            "Warning: Permanently added the RSA host key for IP address '140.82.113.4' to the list of known hosts.\n",
            "HEAD is now at 04b6764 from mac-onpre\n"
          ]
        }
      ]
    },
    {
      "cell_type": "markdown",
      "metadata": {
        "id": "EmmzKuL8vKx_"
      },
      "source": [
        "# <p><font size=\"5\" color=\"orange\">5. Commit & Push</p>"
      ]
    },
    {
      "cell_type": "code",
      "metadata": {
        "colab": {
          "base_uri": "https://localhost:8080/"
        },
        "id": "v-c-2jNMu0X_",
        "outputId": "33c1c932-d711-4cdb-97ba-25ad988dbb1b"
      },
      "source": [
        "#　変更されたファイルをaddして、ローカルリポジトリにコミット\n",
        "%cd /content/drive/MyDrive/kaggle/works/$REPO_NAME\n",
        "\n",
        "!git config --global user.name $USERNAME\n",
        "!git config --global user.email $USEREMAIL\n",
        "\n",
        "!git add .\n",
        "!git commit -m 'from colab' "
      ],
      "execution_count": 20,
      "outputs": [
        {
          "output_type": "stream",
          "name": "stdout",
          "text": [
            "/content/drive/MyDrive/kaggle/works/ventilator-pressure-prediction\n",
            "[main 9e47ebe] from colab\n",
            " 2 files changed, 1 insertion(+), 2 deletions(-)\n",
            " rewrite working/EDA2.ipynb (88%)\n",
            " delete mode 160000 working/rapidsai-csp-utils\n"
          ]
        }
      ]
    },
    {
      "cell_type": "code",
      "metadata": {
        "id": "QrpQ4cCSveix",
        "colab": {
          "base_uri": "https://localhost:8080/"
        },
        "outputId": "f8bb179c-9623-4757-f55d-375ec09071f5"
      },
      "source": [
        "# リモートリポジトリにプッシュ\n",
        "# remote set-urlで、Githubのアカウントとパスワードを設定する必要がある\n",
        "# ここのPASSWORDどうにかしたいなぁ\n",
        "%cd /content/drive/MyDrive/kaggle/works/$REPO_NAME\n",
        "\n",
        "!git remote set-url origin git@github.com:goya5858/$REPO_NAME.git\n",
        "!git push origin main #ブランチ名は適宜変更"
      ],
      "execution_count": 21,
      "outputs": [
        {
          "output_type": "stream",
          "name": "stdout",
          "text": [
            "/content/drive/MyDrive/kaggle/works/ventilator-pressure-prediction\n",
            "Warning: Permanently added the RSA host key for IP address '140.82.114.4' to the list of known hosts.\n",
            "Counting objects: 8, done.\n",
            "Delta compression using up to 2 threads.\n",
            "Compressing objects: 100% (8/8), done.\n",
            "Writing objects: 100% (8/8), 6.11 KiB | 271.00 KiB/s, done.\n",
            "Total 8 (delta 6), reused 0 (delta 0)\n",
            "remote: Resolving deltas: 100% (6/6), completed with 3 local objects.\u001b[K\n",
            "To github.com:goya5858/ventilator-pressure-prediction.git\n",
            "   04b6764..9e47ebe  main -> main\n"
          ]
        }
      ]
    },
    {
      "cell_type": "markdown",
      "metadata": {
        "id": "H0L1L2l2rpgO"
      },
      "source": [
        "# JSONファイル記載例\n",
        "コピペをして該当部分を書き換えてください\n",
        "ファイル名は　env.json　を想定しています"
      ]
    },
    {
      "cell_type": "code",
      "metadata": {
        "id": "5RsxbzASrt5l"
      },
      "source": [
        "{\n",
        "    \"user\":{\n",
        "        \"username\":\"USERNAME for Github\",\n",
        "        \"useremail\": \"EMAIL for Github\"\n",
        "    },\n",
        "\n",
        "    \"secrets\":{\n",
        "        \"pass\": \"PASSWORD for Github\"\n",
        "    }\n",
        "}"
      ],
      "execution_count": null,
      "outputs": []
    }
  ]
}